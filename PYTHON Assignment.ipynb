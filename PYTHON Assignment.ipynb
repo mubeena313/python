{
 "cells": [
  {
   "cell_type": "code",
   "execution_count": 1,
   "id": "8465e103-cb7c-4b6d-8132-575b142ea7d3",
   "metadata": {},
   "outputs": [
    {
     "data": {
      "text/plain": [
       "'hellohellohellopythonpythonpython'"
      ]
     },
     "execution_count": 1,
     "metadata": {},
     "output_type": "execute_result"
    }
   ],
   "source": [
    "#. Multiply two Strings 3 times and add it to a variable:\n",
    "str1 =\"hello\"\n",
    "str2=\"python\"\n",
    "\n",
    "result =(str1 *3) + (str2 * 3)\n",
    "result"
   ]
  },
  {
   "cell_type": "code",
   "execution_count": 7,
   "id": "5d3e531f-818c-454c-9b29-876bb37c9c3b",
   "metadata": {},
   "outputs": [
    {
     "data": {
      "text/plain": [
       "{'name': 'Alan', 'age': 25, 'city': 'UAE'}"
      ]
     },
     "execution_count": 7,
     "metadata": {},
     "output_type": "execute_result"
    }
   ],
   "source": [
    "# Create a list of dictionaries (Dictionaries inside a list):\n",
    "list_of_dict =[\n",
    "    {'name':\"Alan\",\"age\":25,\"city\":\"UAE\"},\n",
    "    {\"name\":\"lisa\",\"age\":26,\"city\":\"Thailand\"},\n",
    "    {\"name\":\"lisa\",\"age\":26,\"city\":\"Thailand\"}\n",
    "]\n",
    "list_of_dict[0]\n"
   ]
  },
  {
   "cell_type": "code",
   "execution_count": 9,
   "id": "7788f397-6997-47f6-8ba1-a698ddd53b8f",
   "metadata": {},
   "outputs": [
    {
     "data": {
      "text/plain": [
       "'lisa'"
      ]
     },
     "execution_count": 9,
     "metadata": {},
     "output_type": "execute_result"
    }
   ],
   "source": [
    "list_of_dict[1][\"name\"]"
   ]
  },
  {
   "cell_type": "code",
   "execution_count": 10,
   "id": "0de610c3-a5f9-48b5-8df3-b77938f36560",
   "metadata": {},
   "outputs": [
    {
     "data": {
      "text/plain": [
       "26"
      ]
     },
     "execution_count": 10,
     "metadata": {},
     "output_type": "execute_result"
    }
   ],
   "source": [
    "list_of_dict[1][\"age\"]"
   ]
  },
  {
   "cell_type": "code",
   "execution_count": 13,
   "id": "eec21988-b1f0-4280-a76d-ee2ded89db29",
   "metadata": {},
   "outputs": [
    {
     "data": {
      "text/plain": [
       "35"
      ]
     },
     "execution_count": 13,
     "metadata": {},
     "output_type": "execute_result"
    }
   ],
   "source": [
    "# Find the sum of two variables and store it in a variable:\n",
    "a = 10\n",
    "b =25\n",
    "sum = a+ b\n",
    "sum"
   ]
  },
  {
   "cell_type": "code",
   "execution_count": 14,
   "id": "c13b3f5b-c6f6-4b4e-b4d6-f19ca7cbb241",
   "metadata": {},
   "outputs": [
    {
     "data": {
      "text/plain": [
       "1"
      ]
     },
     "execution_count": 14,
     "metadata": {},
     "output_type": "execute_result"
    }
   ],
   "source": [
    "#Find the 25 modulus 3\n",
    "modulus = 25% 3\n",
    "modulus"
   ]
  },
  {
   "cell_type": "code",
   "execution_count": 18,
   "id": "2f7c9ca4-ef05-4766-b2b8-0ac37de95696",
   "metadata": {},
   "outputs": [
    {
     "data": {
      "text/plain": [
       "9"
      ]
     },
     "execution_count": 18,
     "metadata": {},
     "output_type": "execute_result"
    }
   ],
   "source": [
    "# Write a simple program to return a function. Return the value of equation a+b2 by passing \n",
    "#arguments and calling the function\n",
    "def calculate_function():\n",
    "    def inner_function(a, b):\n",
    "        return a + b**2\n",
    "    return inner_function\n",
    "\n",
    "result_function = calculate_function()\n",
    "a = 5\n",
    "b = 2\n",
    "result = result_function(a, b)\n",
    "result\n"
   ]
  },
  {
   "cell_type": "code",
   "execution_count": 19,
   "id": "78435539-e31c-408b-9b71-4057c9b1f0d8",
   "metadata": {},
   "outputs": [
    {
     "name": "stdout",
     "output_type": "stream",
     "text": [
      "10 is greater than 8\n"
     ]
    }
   ],
   "source": [
    "# Write a conditional program to find whether 10 is greater than 8. Also give a default(else) \n",
    "#statement.\n",
    "if 10 > 8:\n",
    "    print(\"10 is greater than 8\")\n",
    "else:\n",
    "    print(\"10 is not greater than 8\")"
   ]
  },
  {
   "cell_type": "code",
   "execution_count": 20,
   "id": "2c30d9ac-7931-4df8-a4b4-ef786bb9c4b7",
   "metadata": {},
   "outputs": [
    {
     "data": {
      "text/plain": [
       "130"
      ]
     },
     "execution_count": 20,
     "metadata": {},
     "output_type": "execute_result"
    }
   ],
   "source": [
    "#. Write a function to find the total savings of Rahul. Rahuls mother told Rahul, if Rahul saves \n",
    "#100 rs by end of the week he will get an additional 10 rs as bonus. If not he gets nothing. \n",
    "#Pass how much Rahul saved and his grand total with bonus. (use conditional statements \n",
    "#and functions together)\n",
    "def calculate_total_savings(savings_amount):\n",
    "    if savings_amount >= 100:\n",
    "        total_with_bonus = savings_amount + 10\n",
    "        return total_with_bonus\n",
    "    else:\n",
    "        return savings_amount \n",
    "\n",
    "rahul_savings = 120\n",
    "grand_total = calculate_total_savings(rahul_savings)\n",
    "grand_total\n"
   ]
  },
  {
   "cell_type": "code",
   "execution_count": 28,
   "id": "83f2a0ef-4c97-466c-838b-3925d6603086",
   "metadata": {},
   "outputs": [
    {
     "name": "stdout",
     "output_type": "stream",
     "text": [
      "This is the outer function\n",
      "This is the inner function\n"
     ]
    }
   ],
   "source": [
    "#. Function inside another function. Write a program to create a function inside another \n",
    "#function.\n",
    "def outer_function():\n",
    "    print(\"This is the outer function\")\n",
    "\n",
    "    def inner_function():\n",
    "        print(\"This is the inner function\")\n",
    "\n",
    "    inner_function()\n",
    "outer_function()"
   ]
  },
  {
   "cell_type": "code",
   "execution_count": 29,
   "id": "a44a2a02-4825-4c97-97a9-f97e3729f6f7",
   "metadata": {},
   "outputs": [
    {
     "name": "stdout",
     "output_type": "stream",
     "text": [
      "Hello lisa!\n",
      "You are 31 years old.\n",
      "You live in london.\n"
     ]
    }
   ],
   "source": [
    "# Create a function that contains a few arguments:\n",
    "def greet_person(name, age, city):\n",
    "    print(f\"Hello {name}!\")\n",
    "    print(f\"You are {age} years old.\")\n",
    "    print(f\"You live in {city}.\")\n",
    "greet_person(\"lisa\", 31, \"london\")"
   ]
  },
  {
   "cell_type": "code",
   "execution_count": 30,
   "id": "ee02ba1b-1658-40f8-b2bc-7c1e1a06d7c3",
   "metadata": {},
   "outputs": [
    {
     "name": "stdout",
     "output_type": "stream",
     "text": [
      "Even numbers in the list:\n",
      "2\n",
      "4\n",
      "6\n",
      "8\n",
      "10\n"
     ]
    }
   ],
   "source": [
    "#. Write an iteration program to display only the even numbers from a list.\n",
    "def display_even_numbers(numbers):\n",
    "    print(\"Even numbers in the list:\")\n",
    "    for num in numbers:\n",
    "        if num % 2 == 0:\n",
    "            print(num)\n",
    "\n",
    "number_list = [1, 2, 3, 4, 5, 6, 7, 8, 9, 10]\n",
    "display_even_numbers(number_list)\n",
    "\n"
   ]
  },
  {
   "cell_type": "code",
   "execution_count": 34,
   "id": "545b0d6b-91eb-465c-a566-8f8e61aa7609",
   "metadata": {},
   "outputs": [
    {
     "name": "stdin",
     "output_type": "stream",
     "text": [
      "Enter a number (enter 0 to exit):  5\n"
     ]
    },
    {
     "name": "stdout",
     "output_type": "stream",
     "text": [
      "The number 5 is odd.\n"
     ]
    },
    {
     "name": "stdin",
     "output_type": "stream",
     "text": [
      "Enter a number (enter 0 to exit):  10\n"
     ]
    },
    {
     "name": "stdout",
     "output_type": "stream",
     "text": [
      "The number 10 is even.\n"
     ]
    },
    {
     "name": "stdin",
     "output_type": "stream",
     "text": [
      "Enter a number (enter 0 to exit):  565\n"
     ]
    },
    {
     "name": "stdout",
     "output_type": "stream",
     "text": [
      "The number 565 is odd.\n"
     ]
    },
    {
     "name": "stdin",
     "output_type": "stream",
     "text": [
      "Enter a number (enter 0 to exit):  656\n"
     ]
    },
    {
     "name": "stdout",
     "output_type": "stream",
     "text": [
      "The number 656 is even.\n"
     ]
    },
    {
     "name": "stdin",
     "output_type": "stream",
     "text": [
      "Enter a number (enter 0 to exit):  545343256535\n"
     ]
    },
    {
     "name": "stdout",
     "output_type": "stream",
     "text": [
      "The number 545343256535 is odd.\n"
     ]
    },
    {
     "name": "stdin",
     "output_type": "stream",
     "text": [
      "Enter a number (enter 0 to exit):  53665656\n"
     ]
    },
    {
     "name": "stdout",
     "output_type": "stream",
     "text": [
      "The number 53665656 is even.\n"
     ]
    },
    {
     "name": "stdin",
     "output_type": "stream",
     "text": [
      "Enter a number (enter 0 to exit):  985233\n"
     ]
    },
    {
     "name": "stdout",
     "output_type": "stream",
     "text": [
      "The number 985233 is odd.\n"
     ]
    },
    {
     "name": "stdin",
     "output_type": "stream",
     "text": [
      "Enter a number (enter 0 to exit):  32\n"
     ]
    },
    {
     "name": "stdout",
     "output_type": "stream",
     "text": [
      "The number 32 is even.\n"
     ]
    },
    {
     "name": "stdin",
     "output_type": "stream",
     "text": [
      "Enter a number (enter 0 to exit):  2487879897999799797979464661364646656\n"
     ]
    },
    {
     "name": "stdout",
     "output_type": "stream",
     "text": [
      "The number 2487879897999799797979464661364646656 is even.\n"
     ]
    },
    {
     "name": "stdin",
     "output_type": "stream",
     "text": [
      "Enter a number (enter 0 to exit):  1000000000000000000000000000000000004878979878986465465468787687867657676576876846546546546545465654767\n"
     ]
    },
    {
     "name": "stdout",
     "output_type": "stream",
     "text": [
      "The number 1000000000000000000000000000000000004878979878986465465468787687867657676576876846546546546545465654767 is odd.\n"
     ]
    },
    {
     "name": "stdin",
     "output_type": "stream",
     "text": [
      "Enter a number (enter 0 to exit):  0\n"
     ]
    },
    {
     "name": "stdout",
     "output_type": "stream",
     "text": [
      "Exiting program.\n"
     ]
    }
   ],
   "source": [
    "#. Write program with conditional and loops together\n",
    "while True:\n",
    "    try:\n",
    "        number = int(input(\"Enter a number (enter 0 to exit): \"))\n",
    "        \n",
    "        if number == 0:\n",
    "            print(\"Exiting program.\")\n",
    "            break\n",
    "        \n",
    "        if number % 2 == 0:\n",
    "            print(f\"The number {number} is even.\")\n",
    "        else:\n",
    "            print(f\"The number {number} is odd.\")\n",
    "            \n",
    "    except ValueError:\n",
    "        print(\"Invalid input. Please enter a valid integer.\")"
   ]
  },
  {
   "cell_type": "code",
   "execution_count": 35,
   "id": "54a7c599-618a-4e21-8e51-6e6e2c1062ae",
   "metadata": {},
   "outputs": [
    {
     "data": {
      "text/plain": [
       "5"
      ]
     },
     "execution_count": 35,
     "metadata": {},
     "output_type": "execute_result"
    }
   ],
   "source": [
    "# Count the number of items whose value is less than 20 in a list. (use Conditional \n",
    "#statements, Functions and loops together)\n",
    "def count_items_less_than_20(lst):\n",
    "    count = 0\n",
    "    for item in lst:\n",
    "        if item < 20:\n",
    "            count += 1\n",
    "    return count\n",
    "\n",
    "# Example usage:\n",
    "my_list = [15, 25, 10, 5, 30, 18, 22, 12]\n",
    "result = count_items_less_than_20(my_list)\n",
    "result"
   ]
  },
  {
   "cell_type": "code",
   "execution_count": 36,
   "id": "938e39e0-5cdd-41f6-9c5d-7222aa554cbc",
   "metadata": {},
   "outputs": [
    {
     "data": {
      "text/plain": [
       "21.4"
      ]
     },
     "execution_count": 36,
     "metadata": {},
     "output_type": "execute_result"
    }
   ],
   "source": [
    "#. Iterating over Dictionaries. Find how much did Ali spend in total in a super market. Create \n",
    "#2 dictionaries with prices and quantities. (also use rolling sum trick)\n",
    "def calculate_total_spent(prices, quantities):\n",
    "    total_spent = 0\n",
    "    for item in prices:\n",
    "        if item in quantities:\n",
    "            total_spent += prices[item] * quantities[item]\n",
    "    return total_spent\n",
    "\n",
    "prices_dict = {\n",
    "    'banana': 2.5,\n",
    "    'orange': 1.2,\n",
    "    'rice': 3.0,\n",
    "    'milk': 2.0,\n",
    "    'butter': 4.5\n",
    "}\n",
    "\n",
    "quantities_dict = {\n",
    "    'banana': 3,\n",
    "    'orange': 2,\n",
    "    'rice': 1,\n",
    "    'milk': 2,\n",
    "    'butter': 1\n",
    "}\n",
    "\n",
    "total_spent = calculate_total_spent(prices_dict, quantities_dict)\n",
    "total_spent\n"
   ]
  },
  {
   "cell_type": "code",
   "execution_count": 15,
   "id": "09b66d87-5bbe-410c-9a9d-4a61be99c177",
   "metadata": {},
   "outputs": [
    {
     "name": "stdout",
     "output_type": "stream",
     "text": [
      "Deposited $10000 into account 70702525. New balance is $10000.0.\n",
      "Account 70702525 balance: $10000.0\n",
      "Withdrew $2500 from account 70702525. New balance is $7500.0.\n",
      "Account 70702525 balance: $7500.0\n",
      "Withdrew $3500 from account 70702525. New balance is $4000.0.\n"
     ]
    }
   ],
   "source": [
    "#.Create a Python class called BankAccount which represents a bank account, having as \n",
    "#attributes: accountNumber (numeric type), name (name of the account owner as string \n",
    "#type), balance.\n",
    "\n",
    "class BankAccount:\n",
    "    def __init__(self, accountNumber, name, balance=0.0):\n",
    "        self.accountNumber = accountNumber\n",
    "        self.name = name\n",
    "        self.balance = balance\n",
    "    \n",
    "    def deposit(self, amount):\n",
    "        if amount > 0:\n",
    "            self.balance += amount\n",
    "            print(f\"Deposited ${amount} into account {self.accountNumber}. New balance is ${self.balance}.\")\n",
    "        else:\n",
    "            print(\"Deposit amount must be greater than zero.\")\n",
    "\n",
    "    def withdraw(self, amount):\n",
    "        if 0 < amount <= self.balance:\n",
    "            self.balance -= amount\n",
    "            print(f\"Withdrew ${amount} from account {self.accountNumber}. New balance is ${self.balance}.\")\n",
    "        else:\n",
    "            print(\"Withdrawal amount must be greater than zero and less than or equal to balance.\")\n",
    "\n",
    "    def display_balance(self):\n",
    "        print(f\"Account {self.accountNumber} balance: ${self.balance}\")\n",
    "\n",
    "account1 = BankAccount(70702525, \"Mubeena\")\n",
    "account1.deposit(10000)\n",
    "account1.display_balance()\n",
    "account1.withdraw(2500)\n",
    "account1.display_balance()\n",
    "account1.withdraw(3500)\n",
    "       "
   ]
  },
  {
   "cell_type": "code",
   "execution_count": 19,
   "id": "597003f3-c0a3-4347-a1de-9365b6401a30",
   "metadata": {},
   "outputs": [
    {
     "name": "stdout",
     "output_type": "stream",
     "text": [
      "Deposited $2500 into account 75752020. New balance is $52500.0.\n",
      "Withdrew $10650 from account 75752020. New balance is $41850.0.\n",
      "Account 75752020 balance: $41850.0\n",
      "Withdrew $5000 from account 12384508. New balance is $2500.0.\n",
      "Account 12384508 balance: $2500.0\n"
     ]
    }
   ],
   "source": [
    "#Create a constructor with parameters: accountNumber, name, balance.\n",
    "class BankAccount:\n",
    "    def __init__(self, accountNumber, name, balance):\n",
    "        self.accountNumber = accountNumber\n",
    "        self.name = name\n",
    "        self.balance = balance\n",
    "    \n",
    "    def deposit(self, amount):\n",
    "        if amount > 0:\n",
    "            self.balance += amount\n",
    "            print(f\"Deposited ${amount} into account {self.accountNumber}. New balance is ${self.balance}.\")\n",
    "        else:\n",
    "            print(\"Deposit amount must be greater than zero.\")\n",
    "    \n",
    "    def withdraw(self, amount):\n",
    "        if 0 < amount <= self.balance:\n",
    "            self.balance -= amount\n",
    "            print(f\"Withdrew ${amount} from account {self.accountNumber}. New balance is ${self.balance}.\")\n",
    "        else:\n",
    "            print(\"Withdrawal amount must be greater than zero and less than or equal to balance.\")\n",
    "    \n",
    "    def display_balance(self):\n",
    "        print(f\"Account {self.accountNumber} balance: ${self.balance}\")\n",
    "\n",
    "\n",
    "account1 = BankAccount(75752020, \"Mubeena\", 50000.0)\n",
    "account2 = BankAccount(12384508, \"Alan\", 7500.0)\n",
    "\n",
    "account1.deposit(2500)\n",
    "account1.withdraw(10650)\n",
    "account1.display_balance()\n",
    "\n",
    "account2.withdraw(5000)\n",
    "account2.display_balance()"
   ]
  },
  {
   "cell_type": "code",
   "execution_count": 21,
   "id": "e9ddf0e6-e979-437b-8cff-dfc7317edd0b",
   "metadata": {},
   "outputs": [
    {
     "name": "stdout",
     "output_type": "stream",
     "text": [
      "Account 78542154 balance: $15000.0\n",
      "Deposited $500 into account 78542154. New balance is $15500.0.\n",
      "Account 78542154 balance: $15500.0\n"
     ]
    }
   ],
   "source": [
    "#Create a Deposit() method which manages the deposit actions.\n",
    "class BankAccount:\n",
    "    def __init__(self, accountNumber, name, balance):\n",
    "        self.accountNumber = accountNumber\n",
    "        self.name = name\n",
    "        self.balance = balance\n",
    "    \n",
    "    def deposit(self, amount):\n",
    "        if amount > 0:\n",
    "            self.balance += amount\n",
    "            print(f\"Deposited ${amount} into account {self.accountNumber}. New balance is ${self.balance}.\")\n",
    "        else:\n",
    "            print(\"Deposit amount must be greater than zero.\")\n",
    "    def withdraw(self, amount):\n",
    "        if 0 < amount <= self.balance:\n",
    "            self.balance -= amount\n",
    "            print(f\"Withdrew ${amount} from account {self.accountNumber}. New balance is ${self.balance}.\")\n",
    "        else:\n",
    "            print(\"Withdrawal amount must be greater than zero and less than or equal to balance.\")\n",
    "    \n",
    "    def display_balance(self):\n",
    "        print(f\"Account {self.accountNumber} balance: ${self.balance}\")\n",
    "        \n",
    "account1 = BankAccount(78542154, \"Mubeena\", 15000.0)\n",
    "account1.display_balance()\n",
    "\n",
    "account1.deposit(500)\n",
    "account1.display_balance()\n",
    "\n"
   ]
  },
  {
   "cell_type": "code",
   "execution_count": 35,
   "id": "2d5e83bc-683c-4588-ab1e-6a25eefd23f2",
   "metadata": {},
   "outputs": [
    {
     "name": "stdout",
     "output_type": "stream",
     "text": [
      "Account 78553465 balance: $1000.0\n",
      "Withdrew $700 from account 78553465. New balance is $300.0.\n",
      "Account 78553465 balance: $300.0\n",
      "Insufficient funds.\n",
      "Account 78553465 balance: $300.0\n"
     ]
    }
   ],
   "source": [
    "#Create a Withdrawal() method which manages withdrawals actions.\n",
    "class BankAccount:\n",
    "    def __init__(self, accountNumber, name, balance):\n",
    "        self.accountNumber = accountNumber\n",
    "        self.name = name\n",
    "        self.balance = balance\n",
    "    \n",
    "    def deposit(self, amount):\n",
    "        if amount > 0:\n",
    "            self.balance += amount\n",
    "            print(f\"Deposited ${amount} into account {self.accountNumber}. New balance is ${self.balance}.\")\n",
    "        else:\n",
    "            print(\"Deposit amount must be greater than zero.\")\n",
    "    \n",
    "    def withdrawal(self, amount):\n",
    "        if amount > 0:\n",
    "            if amount <= self.balance:\n",
    "                self.balance -= amount\n",
    "                print(f\"Withdrew ${amount} from account {self.accountNumber}. New balance is ${self.balance}.\")\n",
    "            else:\n",
    "                print(\"Insufficient funds.\")\n",
    "        else:\n",
    "            print(\"Withdrawal amount must be greater than zero.\")\n",
    "            \n",
    "    def display_balance(self):\n",
    "        print(f\"Account {self.accountNumber} balance: ${self.balance}\")\n",
    "\n",
    "account1 = BankAccount(78553465, \"Mubeena\", 1000.0)\n",
    "account1.display_balance()\n",
    "\n",
    "account1.withdrawal(700)\n",
    "account1.display_balance()\n",
    "\n",
    "account1.withdrawal(400)  \n",
    "account1.display_balance()"
   ]
  },
  {
   "cell_type": "code",
   "execution_count": 46,
   "id": "ea280cbc-46a9-489f-b202-35b8b2514215",
   "metadata": {},
   "outputs": [
    {
     "name": "stdout",
     "output_type": "stream",
     "text": [
      "Account 44864545423 balance: $25000.0\n",
      "Applied bank fees of $1250.0 to account 44864545423. New balance is $23750.0.\n",
      "Account 44864545423 balance: $23750.0\n",
      "Withdrew $15000 from account 44864545423. New balance is $8750.0.\n",
      "Account 44864545423 balance: $8750.0\n",
      "Applied bank fees of $437.5 to account 44864545423. New balance is $8312.5.\n",
      "Account 44864545423 balance: $8312.5\n"
     ]
    }
   ],
   "source": [
    "#Create an bankFees() method to apply the bank fees with a percentage of 5% of the \n",
    "#balance account\n",
    "class BankAccount:\n",
    "    def __init__(self, accountNumber, name, balance):\n",
    "        self.accountNumber = accountNumber\n",
    "        self.name = name\n",
    "        self.balance = balance\n",
    "\n",
    "    def deposit(self, amount):\n",
    "        if amount > 0:\n",
    "            self.balance += amount\n",
    "            print(f\"Deposited ${amount} into account {self.accountNumber}. New balance is ${self.balance}.\")\n",
    "        else:\n",
    "            print(\"Deposit amount must be greater than zero.\")\n",
    "    def withdrawal(self, amount):\n",
    "        if amount > 0:\n",
    "            if amount <= self.balance:\n",
    "                self.balance -= amount\n",
    "                print(f\"Withdrew ${amount} from account {self.accountNumber}. New balance is ${self.balance}.\")\n",
    "            else:\n",
    "                print(\"Insufficient funds.\")\n",
    "        else:\n",
    "            print(\"Withdrawal amount must be greater than zero.\")\n",
    "\n",
    "    def bankFees(self):\n",
    "        fee = self.balance * 0.05  # 5% of the current balance\n",
    "        self.balance -= fee\n",
    "        print(f\"Applied bank fees of ${fee} to account {self.accountNumber}. New balance is ${self.balance}.\")\n",
    "    \n",
    "    def display_balance(self):\n",
    "        print(f\"Account {self.accountNumber} balance: ${self.balance}\")\n",
    "\n",
    "\n",
    "account1 = BankAccount(44864545423, \"Mubeena\", 25000.0)\n",
    "account1.display_balance()\n",
    "\n",
    "account1.bankFees()\n",
    "account1.display_balance()\n",
    "\n",
    "account1.withdrawal(15000)\n",
    "account1.display_balance()\n",
    "\n",
    "account1.bankFees()\n",
    "account1.display_balance()\n",
    "    \n",
    "  "
   ]
  },
  {
   "cell_type": "code",
   "execution_count": 48,
   "id": "dbc1ae69-cea0-4a3f-8564-8c82da62e916",
   "metadata": {},
   "outputs": [
    {
     "name": "stdout",
     "output_type": "stream",
     "text": [
      "Account Details for Mubeena\n",
      "Account Number: 54545146\n",
      "Balance: $5000.0\n",
      "Deposited $4000 into account 54545146. New balance is $9000.0.\n",
      "Account Details for Mubeena\n",
      "Account Number: 54545146\n",
      "Balance: $9000.0\n",
      "Withdrew $2000 from account 54545146. New balance is $7000.0.\n",
      "Account Details for Mubeena\n",
      "Account Number: 54545146\n",
      "Balance: $7000.0\n",
      "Applied bank fees of $350.0 to account 54545146. New balance is $6650.0.\n",
      "Account Details for Mubeena\n",
      "Account Number: 54545146\n",
      "Balance: $6650.0\n"
     ]
    }
   ],
   "source": [
    "#Create a display() method to display account details.\n",
    "class BankAccount:\n",
    "    def __init__(self, accountNumber, name, balance):\n",
    "        self.accountNumber = accountNumber\n",
    "        self.name = name\n",
    "        self.balance = balance\n",
    "\n",
    "       \n",
    "    def deposit(self, amount):\n",
    "        if amount > 0:\n",
    "            self.balance += amount\n",
    "            print(f\"Deposited ${amount} into account {self.accountNumber}. New balance is ${self.balance}.\")\n",
    "        else:\n",
    "            print(\"Deposit amount must be greater than zero.\")\n",
    "    \n",
    "    def withdrawal(self, amount):\n",
    "        if amount > 0:\n",
    "            if amount <= self.balance:\n",
    "                self.balance -= amount\n",
    "                print(f\"Withdrew ${amount} from account {self.accountNumber}. New balance is ${self.balance}.\")\n",
    "            else:\n",
    "                print(\"Insufficient funds.\")\n",
    "        else:\n",
    "            print(\"Withdrawal amount must be greater than zero.\")\n",
    "\n",
    "    def bankFees(self):\n",
    "        fee = self.balance * 0.05  # 5% of the current balance\n",
    "        self.balance -= fee\n",
    "        print(f\"Applied bank fees of ${fee} to account {self.accountNumber}. New balance is ${self.balance}.\")\n",
    "    \n",
    "    def display_balance(self):\n",
    "        print(f\"Account {self.accountNumber} balance: ${self.balance}\")\n",
    "    \n",
    "    def display(self):\n",
    "        print(f\"Account Details for {self.name}\")\n",
    "        print(f\"Account Number: {self.accountNumber}\")\n",
    "        print(f\"Balance: ${self.balance}\")\n",
    "\n",
    "account1 = BankAccount(54545146, \"Mubeena\", 5000.0)\n",
    "account1.display()\n",
    "\n",
    "account1.deposit(4000)\n",
    "account1.display()\n",
    "\n",
    "account1.withdrawal(2000)\n",
    "account1.display()\n",
    "\n",
    "account1.bankFees()\n",
    "account1.display()\n",
    "    "
   ]
  },
  {
   "cell_type": "code",
   "execution_count": null,
   "id": "d1dcd8d5-b825-4b28-9c40-e996a84b7caf",
   "metadata": {},
   "outputs": [],
   "source": [
    "#Give the complete code for the BankAccount class."
   ]
  },
  {
   "cell_type": "code",
   "execution_count": 53,
   "id": "059abd56-9ccf-4348-b268-3836ccd69aff",
   "metadata": {},
   "outputs": [
    {
     "name": "stdout",
     "output_type": "stream",
     "text": [
      "Account Details for Mubeena\n",
      "Account Number: 7560720604\n",
      "Balance: $10000000000.0\n",
      "Deposited $25000000 into account 7560720604. New balance is $10025000000.0.\n",
      "Account Details for Mubeena\n",
      "Account Number: 7560720604\n",
      "Balance: $10025000000.0\n",
      "Withdrew $5502300 from account 7560720604. New balance is $10019497700.0.\n",
      "Account Details for Mubeena\n",
      "Account Number: 7560720604\n",
      "Balance: $10019497700.0\n",
      "Applied bank fees of $500974885.0 to account 7560720604. New balance is $9518522815.0.\n"
     ]
    }
   ],
   "source": [
    "class BankAccount:\n",
    "    def __init__(self, accountNumber, name, balance):\n",
    "        self.accountNumber = accountNumber\n",
    "        self.name = name\n",
    "        self.balance = balance\n",
    "    \n",
    "    def deposit(self, amount):\n",
    "        if amount > 0:\n",
    "            self.balance += amount\n",
    "            print(f\"Deposited ${amount} into account {self.accountNumber}. New balance is ${self.balance}.\")\n",
    "        else:\n",
    "            print(\"Deposit amount must be greater than zero.\")\n",
    "\n",
    "    def withdrawal(self, amount):\n",
    "        if amount > 0:\n",
    "            if amount <= self.balance:\n",
    "                self.balance -= amount\n",
    "                print(f\"Withdrew ${amount} from account {self.accountNumber}. New balance is ${self.balance}.\")\n",
    "            else:\n",
    "                print(\"Insufficient funds.\")\n",
    "        else:\n",
    "            print(\"Withdrawal amount must be greater than zero.\")\n",
    "    \n",
    "    def bankFees(self):\n",
    "        fee = self.balance * 0.05  # 5% of the current balance\n",
    "        self.balance -= fee\n",
    "        print(f\"Applied bank fees of ${fee} to account {self.accountNumber}. New balance is ${self.balance}.\")\n",
    "    \n",
    "    def display_balance(self):\n",
    "        print(f\"Account {self.accountNumber} balance: ${self.balance}\")\n",
    "    \n",
    "    def display(self):\n",
    "        print(f\"Account Details for {self.name}\")\n",
    "        print(f\"Account Number: {self.accountNumber}\")\n",
    "        print(f\"Balance: ${self.balance}\")\n",
    "\n",
    "# Example usage:\n",
    "account1 = BankAccount(7560720604, \"Mubeena\", 10000000000.0)\n",
    "account1.display()\n",
    "\n",
    "account1.deposit(25000000)\n",
    "account1.display()\n",
    "\n",
    "account1.withdrawal(5502300)\n",
    "account1.display()\n",
    "\n",
    "account1.bankFees()\n",
    "    "
   ]
  },
  {
   "cell_type": "code",
   "execution_count": 69,
   "id": "9c9fe134-0ca1-454b-a0f2-021d7e3400e5",
   "metadata": {},
   "outputs": [
    {
     "name": "stdin",
     "output_type": "stream",
     "text": [
      "Enter account number:  7025590604123456\n",
      "Enter account holder's name:  Mubeena\n",
      "Enter initial balance:  10000000\n"
     ]
    },
    {
     "name": "stdout",
     "output_type": "stream",
     "text": [
      "Account number must be exactly 13 digits long.\n"
     ]
    },
    {
     "name": "stdin",
     "output_type": "stream",
     "text": [
      "Enter account number:  7025590604123\n"
     ]
    },
    {
     "name": "stdout",
     "output_type": "stream",
     "text": [
      "Account Details for Mubeena\n",
      "Account Number: 7025590604123\n",
      "Balance: $10000000.0\n"
     ]
    },
    {
     "name": "stdin",
     "output_type": "stream",
     "text": [
      "Enter deposit amount:  50000\n"
     ]
    },
    {
     "name": "stdout",
     "output_type": "stream",
     "text": [
      "Deposited $50000 into account 7025590604123. New balance is $10050000.0.\n"
     ]
    },
    {
     "name": "stdin",
     "output_type": "stream",
     "text": [
      "Enter withdrawal amount:  25000\n"
     ]
    },
    {
     "name": "stdout",
     "output_type": "stream",
     "text": [
      "Withdrew $25000 from account 7025590604123. New balance is $10025000.0.\n",
      "Applied bank fees of $501250.0 to account 7025590604123. New balance is $9523750.0.\n",
      "Account Details for Mubeena\n",
      "Account Number: 7025590604123\n",
      "Balance: $9523750.0\n"
     ]
    }
   ],
   "source": [
    "#Create a validation for Account number input (Should be equal to 13 length and integer \n",
    "#only) Use while loop. Deposit,withdrawal,bankfees inputs should be integer.\n",
    "class BankAccount:\n",
    "    def __init__(self, accountNumber, name, balance):\n",
    "        self.accountNumber = self.validate_account_number(accountNumber)  \n",
    "        self.name = name\n",
    "        self.balance = balance\n",
    "    \n",
    "    def validate_account_number(self, accountNumber):\n",
    "        while True:\n",
    "            try:\n",
    "                accountNumber = int(accountNumber) \n",
    "                if len(str(accountNumber)) == 13:  \n",
    "                    return accountNumber\n",
    "                else:\n",
    "                    print(\"Account number must be exactly 13 digits long.\")\n",
    "                    accountNumber = input(\"Enter account number: \")\n",
    "            except ValueError:\n",
    "                print(\"Account number must be an integer.\")\n",
    "                accountNumber = input(\"Enter account number: \")\n",
    "    \n",
    "    def deposit(self, amount):\n",
    "        while True:\n",
    "            try:\n",
    "                amount = int(amount)  \n",
    "                if amount > 0:\n",
    "                    self.balance += amount\n",
    "                    print(f\"Deposited ${amount} into account {self.accountNumber}. New balance is ${self.balance}.\")\n",
    "                    break\n",
    "                else:\n",
    "                    print(\"Deposit amount must be greater than zero.\")\n",
    "                    amount = input(\"Enter deposit amount: \")\n",
    "            except ValueError:\n",
    "                print(\"Deposit amount must be an integer.\")\n",
    "                amount = input(\"Enter deposit amount: \")\n",
    "    \n",
    "    def withdrawal(self, amount):\n",
    "        while True:\n",
    "            try:\n",
    "                amount = int(amount)  \n",
    "                if amount > 0:\n",
    "                    if amount <= self.balance:\n",
    "                        self.balance -= amount\n",
    "                        print(f\"Withdrew ${amount} from account {self.accountNumber}. New balance is ${self.balance}.\")\n",
    "                        break\n",
    "                    else:\n",
    "                        print(\"Insufficient funds.\")\n",
    "                        amount = input(\"Enter withdrawal amount: \")\n",
    "                else:\n",
    "                    print(\"Withdrawal amount must be greater than zero.\")\n",
    "                    amount = input(\"Enter withdrawal amount: \")\n",
    "            except ValueError:\n",
    "                print(\"Withdrawal amount must be an integer.\")\n",
    "                amount = input(\"Enter withdrawal amount: \")\n",
    "    \n",
    "    def bankFees(self):\n",
    "        fee = self.balance * 0.05  # 5% of the current balance\n",
    "        self.balance -= fee\n",
    "        print(f\"Applied bank fees of ${fee} to account {self.accountNumber}. New balance is ${self.balance}.\")\n",
    "    \n",
    "    def display_balance(self):\n",
    "        print(f\"Account {self.accountNumber} balance: ${self.balance}\")\n",
    "    \n",
    "    def display(self):\n",
    "        print(f\"Account Details for {self.name}\")\n",
    "        print(f\"Account Number: {self.accountNumber}\")\n",
    "        print(f\"Balance: ${self.balance}\")\n",
    "\n",
    "# Example usage:\n",
    "if __name__ == \"__main__\":\n",
    "    # Prompts for account creation\n",
    "    account_number = input(\"Enter account number: \")\n",
    "    name = input(\"Enter account holder's name: \")\n",
    "    initial_balance = float(input(\"Enter initial balance: \"))\n",
    "\n",
    "    # Create an instance of BankAccount\n",
    "    account1 = BankAccount(account_number, name, initial_balance)\n",
    "\n",
    "    account1.display()\n",
    "\n",
    "    # Perform transactions with integer inputs\n",
    "    deposit_amount = input(\"Enter deposit amount: \")\n",
    "    account1.deposit(deposit_amount)\n",
    "\n",
    "    withdrawal_amount = input(\"Enter withdrawal amount: \")\n",
    "    account1.withdrawal(withdrawal_amount)\n",
    "\n",
    "    account1.bankFees()\n",
    "    account1.display()\n"
   ]
  },
  {
   "cell_type": "code",
   "execution_count": null,
   "id": "3c0cebf6-6a4a-49cf-a9e5-2876e459e372",
   "metadata": {},
   "outputs": [],
   "source": []
  }
 ],
 "metadata": {
  "kernelspec": {
   "display_name": "Python 3 (ipykernel)",
   "language": "python",
   "name": "python3"
  },
  "language_info": {
   "codemirror_mode": {
    "name": "ipython",
    "version": 3
   },
   "file_extension": ".py",
   "mimetype": "text/x-python",
   "name": "python",
   "nbconvert_exporter": "python",
   "pygments_lexer": "ipython3",
   "version": "3.12.4"
  }
 },
 "nbformat": 4,
 "nbformat_minor": 5
}
